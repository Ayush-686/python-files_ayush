{
  "nbformat": 4,
  "nbformat_minor": 0,
  "metadata": {
    "colab": {
      "provenance": [],
      "authorship_tag": "ABX9TyPrfeOIV2i7hSOvnsDnbjRA",
      "include_colab_link": true
    },
    "kernelspec": {
      "name": "python3",
      "display_name": "Python 3"
    },
    "language_info": {
      "name": "python"
    }
  },
  "cells": [
    {
      "cell_type": "markdown",
      "metadata": {
        "id": "view-in-github",
        "colab_type": "text"
      },
      "source": [
        "<a href=\"https://colab.research.google.com/github/Ayush-686/python-files_ayush/blob/main/Untitled6.ipynb\" target=\"_parent\"><img src=\"https://colab.research.google.com/assets/colab-badge.svg\" alt=\"Open In Colab\"/></a>"
      ]
    },
    {
      "cell_type": "code",
      "execution_count": 11,
      "metadata": {
        "colab": {
          "base_uri": "https://localhost:8080/"
        },
        "id": "8cAiHVUxJJsK",
        "outputId": "04597fd8-f0b8-42e6-f9cb-a737aef9e3f9"
      },
      "outputs": [
        {
          "output_type": "stream",
          "name": "stdout",
          "text": [
            "Remainder when a is divided by b 4\n"
          ]
        }
      ],
      "source": [
        "a=34\n",
        "b=5\n",
        "print(\"Remainder when a is divided by b\",a%b)"
      ]
    },
    {
      "cell_type": "code",
      "source": [
        "a=5\n",
        "b=8\n",
        "a=a+b\n",
        "b=a-b\n",
        "a=a-b\n",
        "print(\"the value after swapping is:\",a,b)"
      ],
      "metadata": {
        "colab": {
          "base_uri": "https://localhost:8080/"
        },
        "id": "UF6VbaQFJh6d",
        "outputId": "596d81dc-8b66-4cba-cf34-4e1a3868e203"
      },
      "execution_count": 12,
      "outputs": [
        {
          "output_type": "stream",
          "name": "stdout",
          "text": [
            "the value after swapping is: 8 5\n"
          ]
        }
      ]
    },
    {
      "cell_type": "code",
      "source": [
        "a=9\n",
        "b=7\n",
        "temp = a\n",
        "a=b\n",
        "b=temp\n",
        "print(\"the value after swapping is:\",a,b)"
      ],
      "metadata": {
        "colab": {
          "base_uri": "https://localhost:8080/"
        },
        "id": "C8_pd43aK-lR",
        "outputId": "4af3288e-9173-42e7-dcd6-3f891d442bb8"
      },
      "execution_count": 14,
      "outputs": [
        {
          "output_type": "stream",
          "name": "stdout",
          "text": [
            "the value after swapping is: 7 9\n"
          ]
        }
      ]
    },
    {
      "cell_type": "code",
      "source": [
        "a=4\n",
        "b=2\n",
        "a,b=b,a\n",
        "print(\"the value after swapping is:\",a,b)"
      ],
      "metadata": {
        "colab": {
          "base_uri": "https://localhost:8080/"
        },
        "id": "uT-LX8tiLXLU",
        "outputId": "535c7eec-7d2c-4a5a-b845-31fee90c441c"
      },
      "execution_count": 15,
      "outputs": [
        {
          "output_type": "stream",
          "name": "stdout",
          "text": [
            "the value after swapping is: 2 4\n"
          ]
        }
      ]
    },
    {
      "cell_type": "code",
      "source": [
        "num=int(input(\"enter a number\"))\n",
        "if num%2==0:\n",
        "  print(\"the number is even\")\n",
        "else:\n",
        "  print(\"the number is odd\")"
      ],
      "metadata": {
        "colab": {
          "base_uri": "https://localhost:8080/"
        },
        "id": "SFTd-1Y5LpeV",
        "outputId": "d3eed24a-b9f7-4ca4-a79c-6e6d822210ec"
      },
      "execution_count": 16,
      "outputs": [
        {
          "output_type": "stream",
          "name": "stdout",
          "text": [
            "enter a number8\n",
            "the number is even\n"
          ]
        }
      ]
    },
    {
      "cell_type": "code",
      "source": [],
      "metadata": {
        "id": "RcLLplwMMW9m"
      },
      "execution_count": null,
      "outputs": []
    }
  ]
}