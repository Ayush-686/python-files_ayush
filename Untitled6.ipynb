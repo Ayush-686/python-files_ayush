{
  "nbformat": 4,
  "nbformat_minor": 0,
  "metadata": {
    "colab": {
      "provenance": [],
      "authorship_tag": "ABX9TyMiy45I8t0g/BMZzgZ8HWc1",
      "include_colab_link": true
    },
    "kernelspec": {
      "name": "python3",
      "display_name": "Python 3"
    },
    "language_info": {
      "name": "python"
    }
  },
  "cells": [
    {
      "cell_type": "markdown",
      "metadata": {
        "id": "view-in-github",
        "colab_type": "text"
      },
      "source": [
        "<a href=\"https://colab.research.google.com/github/Ayush-686/python-files_ayush/blob/main/Untitled6.ipynb\" target=\"_parent\"><img src=\"https://colab.research.google.com/assets/colab-badge.svg\" alt=\"Open In Colab\"/></a>"
      ]
    },
    {
      "cell_type": "markdown",
      "source": [
        "remainder checking"
      ],
      "metadata": {
        "id": "yMvRg-XUNGQb"
      }
    },
    {
      "cell_type": "code",
      "execution_count": 31,
      "metadata": {
        "colab": {
          "base_uri": "https://localhost:8080/"
        },
        "id": "8cAiHVUxJJsK",
        "outputId": "046af005-2efe-473d-ba56-9c3bab1d72a3"
      },
      "outputs": [
        {
          "output_type": "stream",
          "name": "stdout",
          "text": [
            "Remainder when a is divided by b 4\n"
          ]
        }
      ],
      "source": [
        "a=34\n",
        "b=5\n",
        "print(\"Remainder when a is divided by b\",a%b)"
      ]
    },
    {
      "cell_type": "markdown",
      "source": [
        "swap using two variables"
      ],
      "metadata": {
        "id": "N69TCqpjNMIv"
      }
    },
    {
      "cell_type": "code",
      "source": [
        "a=5\n",
        "b=8\n",
        "a=a+b\n",
        "b=a-b\n",
        "a=a-b\n",
        "print(\"the value after swapping is:\",a,b)"
      ],
      "metadata": {
        "colab": {
          "base_uri": "https://localhost:8080/"
        },
        "id": "UF6VbaQFJh6d",
        "outputId": "73ddf5c8-f444-49f9-c8de-ce15bf318a6a"
      },
      "execution_count": 32,
      "outputs": [
        {
          "output_type": "stream",
          "name": "stdout",
          "text": [
            "the value after swapping is: 8 5\n"
          ]
        }
      ]
    },
    {
      "cell_type": "markdown",
      "source": [
        "swap using third variable"
      ],
      "metadata": {
        "id": "HNhvqwSTNVs5"
      }
    },
    {
      "cell_type": "code",
      "source": [
        "a=9\n",
        "b=7\n",
        "temp = a\n",
        "a=b\n",
        "b=temp\n",
        "print(\"the value after swapping is:\",a,b)"
      ],
      "metadata": {
        "colab": {
          "base_uri": "https://localhost:8080/"
        },
        "id": "C8_pd43aK-lR",
        "outputId": "92631f6a-f554-4a8f-f312-bae43c85d64b"
      },
      "execution_count": 33,
      "outputs": [
        {
          "output_type": "stream",
          "name": "stdout",
          "text": [
            "the value after swapping is: 7 9\n"
          ]
        }
      ]
    },
    {
      "cell_type": "markdown",
      "source": [
        "swap withput using third variable"
      ],
      "metadata": {
        "id": "-slNCI5-NZ1t"
      }
    },
    {
      "cell_type": "code",
      "source": [
        "a=4\n",
        "b=2\n",
        "a,b=b,a\n",
        "print(\"the value after swapping is:\",a,b)"
      ],
      "metadata": {
        "colab": {
          "base_uri": "https://localhost:8080/"
        },
        "id": "uT-LX8tiLXLU",
        "outputId": "364b5e72-e0f9-426b-89b2-cb93c1c39794"
      },
      "execution_count": 34,
      "outputs": [
        {
          "output_type": "stream",
          "name": "stdout",
          "text": [
            "the value after swapping is: 2 4\n"
          ]
        }
      ]
    },
    {
      "cell_type": "markdown",
      "source": [
        "odd or even check"
      ],
      "metadata": {
        "id": "s2hzACb9NeuV"
      }
    },
    {
      "cell_type": "code",
      "source": [
        "num=int(input(\"enter a number\"))\n",
        "if num%2==0:\n",
        "  print(\"the number is even\")\n",
        "else:\n",
        "  print(\"the number is odd\")"
      ],
      "metadata": {
        "colab": {
          "base_uri": "https://localhost:8080/"
        },
        "id": "SFTd-1Y5LpeV",
        "outputId": "e8d3da9e-7503-4fa4-fc59-30a6463f43fd"
      },
      "execution_count": 35,
      "outputs": [
        {
          "output_type": "stream",
          "name": "stdout",
          "text": [
            "enter a number12\n",
            "the number is even\n"
          ]
        }
      ]
    },
    {
      "cell_type": "markdown",
      "source": [
        "positive or negative checking"
      ],
      "metadata": {
        "id": "KSWGU9fZNi8u"
      }
    },
    {
      "cell_type": "code",
      "source": [
        "a=int(input(\"enter a number\"))\n",
        "if a>0:\n",
        "  print(\"The number is positive\")\n",
        "elif a<0:\n",
        "  print(\"the number is negative\")\n",
        "else:\n",
        "  print(\"the number is zero\")"
      ],
      "metadata": {
        "colab": {
          "base_uri": "https://localhost:8080/"
        },
        "id": "RcLLplwMMW9m",
        "outputId": "7c256749-7da9-45c5-9c11-830e71842d0f"
      },
      "execution_count": 36,
      "outputs": [
        {
          "output_type": "stream",
          "name": "stdout",
          "text": [
            "enter a number16\n",
            "The number is positive\n"
          ]
        }
      ]
    },
    {
      "cell_type": "markdown",
      "source": [
        "find largest among three numbers"
      ],
      "metadata": {
        "id": "ug--fUHIOa8m"
      }
    },
    {
      "cell_type": "code",
      "source": [
        "a=int(input(\"Enter first number\"))\n",
        "b=int(input(\"enter second number\"))\n",
        "c=int(input(\"enter third number\"))\n",
        "\n",
        "if a>b and a>c:\n",
        "    largest = a\n",
        "elif b>a and b>c:\n",
        "        largest = b\n",
        "else:\n",
        "        largest = c\n",
        "\n",
        "print(\"the largest among three numbers is:\",largest)"
      ],
      "metadata": {
        "colab": {
          "base_uri": "https://localhost:8080/"
        },
        "id": "qUtcO_qqOflR",
        "outputId": "90279998-e822-4754-9b2a-0d7c69923c07"
      },
      "execution_count": 37,
      "outputs": [
        {
          "output_type": "stream",
          "name": "stdout",
          "text": [
            "Enter first number96\n",
            "enter second number78\n",
            "enter third number-895632\n",
            "the largest among three numbers is: 96\n"
          ]
        }
      ]
    },
    {
      "cell_type": "markdown",
      "source": [
        "sqare root of a number"
      ],
      "metadata": {
        "id": "R-Kk2pRVRHfG"
      }
    },
    {
      "cell_type": "code",
      "source": [
        "num = float(input(\"enter a number\"))\n",
        "sqrt= num**0.5\n",
        "print(\"the square root of the number is:\",sqrt)"
      ],
      "metadata": {
        "colab": {
          "base_uri": "https://localhost:8080/"
        },
        "id": "WsVYHU-2Sn0-",
        "outputId": "45cc1b39-3b0f-479f-e5d5-3dc6da58a818"
      },
      "execution_count": 38,
      "outputs": [
        {
          "output_type": "stream",
          "name": "stdout",
          "text": [
            "enter a number25\n",
            "the square root of the number is: 5.0\n"
          ]
        }
      ]
    },
    {
      "cell_type": "markdown",
      "source": [
        "check leap year or not"
      ],
      "metadata": {
        "id": "ZzLqXoUpoazd"
      }
    },
    {
      "cell_type": "code",
      "source": [
        "year=int(input(\"enter a year\"))\n",
        "if year%400==0:\n",
        "  print(\"it is a leap year\")\n",
        "elif year%100==0:\n",
        "    print(\"it is not a leap year\")\n",
        "elif year%4==0:\n",
        "    print(\"it is a leap year\")\n",
        "else:\n",
        "      print(\"not a leap year\")"
      ],
      "metadata": {
        "colab": {
          "base_uri": "https://localhost:8080/"
        },
        "id": "KW33jtFVo0yf",
        "outputId": "150ff005-b9be-4e5a-ac26-8d39e9764e8f"
      },
      "execution_count": 45,
      "outputs": [
        {
          "output_type": "stream",
          "name": "stdout",
          "text": [
            "enter a year1700\n",
            "it is not a leap year\n"
          ]
        }
      ]
    }
  ]
}